{
 "cells": [
  {
   "cell_type": "markdown",
   "id": "a4143a8e-03a4-4d02-a883-fc617db11be9",
   "metadata": {},
   "source": [
    "# Background Subtraction Tool\n",
    "\n",
    "This notebook is designed to be used with the `AstroBkgInterp` tool."
   ]
  },
  {
   "cell_type": "markdown",
   "id": "20782ead-244d-411d-8c58-555d876e2a62",
   "metadata": {
    "tags": []
   },
   "source": [
    "## Import Packages\n",
    "\n",
    "- `AstroBkgInterp` is our background interpolation tool\n",
    "- `numpy` for array processing and math\n",
    "- `atropy.io` for accessing the data\n",
    "- `astropy.stats` for calculating statistics on the data\n",
    "- `matplotlib` for plotting images and spectra\n",
    "- `photutils.detection` for finding stars in the data\n",
    "\n",
    "Optional: \n",
    "- `jwst` for running the JWST Calibration pipeline on JWST data (Note: you will need to install this package separately, as it is not included in the standard environment install for AstroBkgInterp). See https://github.com/spacetelescope/jwst for installation instructions."
   ]
  },
  {
   "cell_type": "code",
   "execution_count": null,
   "id": "af6e8895-d8fa-4c35-a6e1-e8010cac6d80",
   "metadata": {
    "tags": []
   },
   "outputs": [],
   "source": [
    "import copy\n",
    "import os, sys\n",
    "\n",
    "# Import the background subtraction tool \n",
    "from AstroBkgInterp import AstroBkgInterp\n",
    "\n",
    "# Import astropy packages\n",
    "from astropy.io import fits\n",
    "from astropy.stats import sigma_clipped_stats\n",
    "import astropy.units as u\n",
    "\n",
    "# Import packages for displaying images in notebook\n",
    "from matplotlib import pyplot as plt\n",
    "from matplotlib.patches import Circle\n",
    "from mpl_toolkits.axes_grid1 import make_axes_locatable\n",
    "\n",
    "# For data handling\n",
    "import numpy as np\n",
    "\n",
    "# To find stars in the MRS spectralcubes \n",
    "from photutils.detection import DAOStarFinder"
   ]
  },
  {
   "cell_type": "markdown",
   "id": "36fc1a34-4512-4e58-9bdc-349ec0712e6d",
   "metadata": {},
   "source": [
    "## Set paths to Data and Outputs"
   ]
  },
  {
   "cell_type": "code",
   "execution_count": null,
   "id": "66057c1b-07bd-45f2-a2b5-0635862a76a4",
   "metadata": {
    "tags": []
   },
   "outputs": [],
   "source": [
    "path = '/path/to/data/Level3_ch1-2-3-4-shortmediumlong_s3d.fits'"
   ]
  },
  {
   "cell_type": "markdown",
   "id": "eb4682e7-13b8-45d1-9ecd-cf48d92da781",
   "metadata": {},
   "source": [
    "## Open and display the data "
   ]
  },
  {
   "cell_type": "code",
   "execution_count": null,
   "id": "0df31923-4b87-4206-89c0-dd5b87f6e1e0",
   "metadata": {
    "tags": []
   },
   "outputs": [],
   "source": [
    "hdu = fits.open(path)\n",
    "data = hdu[1].data\n",
    "\n",
    "# set all NaN values to 0\n",
    "data[np.isnan(data)] = 0\n",
    "\n",
    "plt.imshow(data[7000], origin='lower')\n",
    "plt.colorbar()"
   ]
  },
  {
   "cell_type": "markdown",
   "id": "8466a853-ce49-4a6d-a144-61a65f7e970f",
   "metadata": {},
   "source": [
    "### Now detect the point source\n",
    "\n",
    "Get a list of sources using a dedicated source detection algorithm. "
   ]
  },
  {
   "cell_type": "code",
   "execution_count": null,
   "id": "f962e84f-d89c-4a7b-b047-38ca6ce6dafc",
   "metadata": {
    "tags": []
   },
   "outputs": [],
   "source": [
    "cube = np.zeros((data.shape[1], data.shape[2]))\n",
    "for a in range(data.shape[1]):\n",
    "    for b in range(data.shape[2]):\n",
    "        cube[a, b] = np.median(data[:,a,b])\n",
    "        \n",
    "mean, median, std = sigma_clipped_stats(cube, sigma=3)\n",
    "\n",
    "# Find sources at least 3* background (typically)\n",
    "daofind = DAOStarFinder(fwhm=3.0, threshold=3.*std)\n",
    "sources = daofind(cube-median) \n",
    "print(\"\\n Number of sources in field:\", len(sources))"
   ]
  },
  {
   "cell_type": "code",
   "execution_count": null,
   "id": "70cee8b9-d6a9-4787-895c-4dda175354cc",
   "metadata": {
    "tags": []
   },
   "outputs": [],
   "source": [
    "# Plot all of the sources\n",
    "plt.imshow(data[7000],origin='lower')\n",
    "plt.colorbar()\n",
    "plt.scatter(sources['xcentroid'], sources['ycentroid'], c=\"black\", marker=\"+\", s=50)"
   ]
  },
  {
   "cell_type": "markdown",
   "id": "42ffe064-e0a8-46b7-95c3-d2b102abc399",
   "metadata": {},
   "source": [
    "In the case where multiple sources are detected, find the brightest source and set this as the primary source."
   ]
  },
  {
   "cell_type": "code",
   "execution_count": null,
   "id": "ecac00b4-74ee-43be-be8a-fbffec97a6ef",
   "metadata": {
    "tags": []
   },
   "outputs": [],
   "source": [
    "peakpixval = np.zeros(len(sources['xcentroid']))\n",
    "for count_s, _ in enumerate(sources):\n",
    "    peakpixval[count_s] = cube[int(np.round(sources['xcentroid'][count_s])), int(np.round(sources['ycentroid'][count_s]))]\n",
    "    \n",
    "src_x, src_y = sources['xcentroid'][np.argmax(peakpixval)], sources['ycentroid'][np.argmax(peakpixval)]\n",
    "print(f'peak pixel x = {src_x}')\n",
    "print(f'peak pixel y = {src_y}')\n"
   ]
  },
  {
   "cell_type": "markdown",
   "id": "5cb5f34e-80c3-463b-92fd-59bbf182d6b1",
   "metadata": {},
   "source": [
    "### Set size of aperture and annulus for source masking"
   ]
  },
  {
   "cell_type": "code",
   "execution_count": null,
   "id": "0023f62a-b131-40c4-9517-72b88dadb67d",
   "metadata": {
    "tags": []
   },
   "outputs": [],
   "source": [
    "aper_rad = 5\n",
    "ann_width = 6"
   ]
  },
  {
   "cell_type": "markdown",
   "id": "09d073ae-768e-4ce8-9e07-1e76be072b09",
   "metadata": {},
   "source": [
    "Use the plot below to determine the desired aperture radius and annulus width for source masking."
   ]
  },
  {
   "cell_type": "code",
   "execution_count": null,
   "id": "b7b4ce38-7142-4ed5-af62-5b270678cb49",
   "metadata": {
    "tags": []
   },
   "outputs": [],
   "source": [
    "plt.figure(figsize=(7,7))\n",
    "plt.imshow(data[7000],origin='lower')\n",
    "plt.colorbar()\n",
    "plt.plot(src_x, src_y,'rx')\n",
    "\n",
    "circ = Circle((src_x, src_y), radius = aper_rad, color='r', fill=False)\n",
    "annin = Circle((src_x, src_y), radius = aper_rad+ann_width, color='r', fill=False)\n",
    "plt.gca().add_patch(circ)\n",
    "plt.gca().add_patch(annin)"
   ]
  },
  {
   "cell_type": "markdown",
   "id": "de7a1699-6dc7-4a4f-ae24-0190f4bc4af5",
   "metadata": {},
   "source": [
    "# Run the background tool"
   ]
  },
  {
   "cell_type": "code",
   "execution_count": null,
   "id": "c24aa9d5-5d8c-495d-b882-127d6c415478",
   "metadata": {
    "tags": []
   },
   "outputs": [],
   "source": [
    "bi = AstroBkgInterp()\n",
    "\n",
    "# Source position\n",
    "bi.src_y = src_y\n",
    "bi.src_x = src_x\n",
    "\n",
    "# Source masking params\n",
    "bi.aper_rad = aper_rad\n",
    "bi.ann_width = ann_width\n",
    "\n",
    "# Background params\n",
    "bi.bkg_mode = 'polynomial' \n",
    "bi.k = 3 \n",
    "bi.bin_size = 5 \n",
    "\n",
    "# Multiprocessing params\n",
    "bi.pool_size = 12 \n",
    "bi.cube_resolution = 'high'\n",
    "\n",
    "diff, bkg, mask = bi.run(data)"
   ]
  },
  {
   "cell_type": "code",
   "execution_count": null,
   "id": "cd2e5b91-6bcd-42af-9cf0-5fa8a48af4e7",
   "metadata": {},
   "outputs": [],
   "source": [
    "fig, ax = plt.subplots(2, 2, figsize=(8, 10), constrained_layout=True)\n",
    "\n",
    "# Titles for subplots\n",
    "ax[0, 0].set_title('Data')\n",
    "ax[0, 1].set_title('Source Masked')\n",
    "ax[1, 0].set_title('Interpolated Bkg')\n",
    "ax[1, 1].set_title('Residual')\n",
    "\n",
    "# Define color limits and colormap\n",
    "vmin, vmax = -10, 180\n",
    "\n",
    "# Plot images\n",
    "im_list = []\n",
    "im_list.append(ax[0, 0].imshow(data[1000], vmin=vmin, vmax=vmax, origin='lower'))\n",
    "im_list.append(ax[0, 1].imshow(mask[1000][0], vmin=vmin, vmax=vmax, origin='lower'))\n",
    "im_list.append(ax[1, 0].imshow(bkg[1000], vmin=vmin, vmax=vmax, origin='lower'))\n",
    "im_list.append(ax[1, 1].imshow(diff[1000], vmin=vmin, vmax=vmax, origin='lower'))\n",
    "\n",
    "# Add a single shared colorbar\n",
    "cbar = fig.colorbar(im_list[0], ax=ax, orientation='vertical', fraction=0.1, pad=0.03, shrink=0.7, aspect=30)\n",
    "\n",
    "plt.show()"
   ]
  },
  {
   "cell_type": "code",
   "execution_count": null,
   "id": "b080e681-3ce8-46c5-8853-792382aa659a",
   "metadata": {},
   "outputs": [],
   "source": [
    "newdata = np.array([s for s in diff])"
   ]
  },
  {
   "cell_type": "code",
   "execution_count": null,
   "id": "3b7d119a-12cb-4c77-b95b-cbd4188cb602",
   "metadata": {},
   "outputs": [],
   "source": [
    "newhdu = copy.deepcopy(hdu)"
   ]
  },
  {
   "cell_type": "code",
   "execution_count": null,
   "id": "e1b03bd5-230d-4b61-80b2-ccbb1e6f39e6",
   "metadata": {},
   "outputs": [],
   "source": [
    "newhdu[1].data = newdata\n",
    "newhdu.writeto('newdata_high_res.fits', overwrite=True)"
   ]
  },
  {
   "cell_type": "code",
   "execution_count": null,
   "id": "089c6cee-2b11-4a1e-b36b-0ea21138dc09",
   "metadata": {},
   "outputs": [],
   "source": [
    "plt.imshow(newdata[5000],origin='lower')\n",
    "plt.plot(src_x,src_y,'rx')\n",
    "\n",
    "circ = Circle((src_x,src_y), radius=aper_rad,color='r',fill=False)\n",
    "annin = Circle((src_x,src_y), radius=aper_rad+ann_width,color='r',fill=False)\n",
    "\n",
    "plt.gca().add_patch(circ)\n",
    "plt.gca().add_patch(annin)"
   ]
  },
  {
   "cell_type": "markdown",
   "id": "da7ddb07-1ac5-4649-b7f7-02d218640d9e",
   "metadata": {},
   "source": [
    "-----------------"
   ]
  },
  {
   "cell_type": "markdown",
   "id": "343f6306-7508-4aae-bda4-9f65b1a24a80",
   "metadata": {},
   "source": [
    "## For JWST data: Run the pipeline"
   ]
  },
  {
   "cell_type": "code",
   "execution_count": null,
   "id": "a1d6b784-e26f-4f8f-a874-efec95a61ce4",
   "metadata": {},
   "outputs": [],
   "source": [
    "import os\n",
    "os.environ['CRDS_SERVER_URL'] = 'https://jwst-crds.stsci.edu'\n",
    "os.environ['CRDS_PATH'] = os.environ['HOME']+'/crds_cache'\n",
    "\n",
    "from jwst.extract_1d import Extract1dStep\n",
    "from jwst import datamodels"
   ]
  },
  {
   "cell_type": "code",
   "execution_count": null,
   "id": "3643667e-1195-48ef-88b6-fb25e79a1fc4",
   "metadata": {
    "tags": []
   },
   "outputs": [],
   "source": [
    "step = Extract1dStep()\n",
    "\n",
    "cube = datamodels.open('newdata_high_res.fits')\n",
    "\n",
    "result = step.call(cube, \n",
    "                   subtract_background=False, \n",
    "                   center_xy=[src_x,src_y],\n",
    "                   ifu_rfcorr=True)"
   ]
  },
  {
   "cell_type": "code",
   "execution_count": null,
   "id": "5c48def2-cd58-43e1-bacf-a88e96a3ba1b",
   "metadata": {},
   "outputs": [],
   "source": [
    "result.to_fits('newdata_high_res_spec2.fits',overwrite=True)\n",
    "res_pipe = fits.open('newdata_high_res_spec2.fits')"
   ]
  },
  {
   "cell_type": "markdown",
   "id": "74281b6a-5220-4794-97eb-16f7b62a6f85",
   "metadata": {},
   "source": [
    "### Plot ABI background subtracted spectra"
   ]
  },
  {
   "cell_type": "code",
   "execution_count": null,
   "id": "4281e275-34d4-4723-b169-497a6d5ca81b",
   "metadata": {},
   "outputs": [],
   "source": [
    "spec = res_pipe[1].data\n",
    "WAVE = spec['WAVELENGTH']\n",
    "FLUX = spec['FLUX']"
   ]
  },
  {
   "cell_type": "code",
   "execution_count": null,
   "id": "3cdf622e-7948-4749-851e-3266fd0b8784",
   "metadata": {},
   "outputs": [],
   "source": [
    "FLUX_mjy = (FLUX*u.Jy).to(u.mJy)"
   ]
  },
  {
   "cell_type": "code",
   "execution_count": null,
   "id": "45faf544-d998-48ff-9abd-3785025ee47b",
   "metadata": {},
   "outputs": [],
   "source": [
    "FLUX_mjy.max()"
   ]
  },
  {
   "cell_type": "code",
   "execution_count": null,
   "id": "4ece7891-5264-4e80-8ae2-1f15c0fa82eb",
   "metadata": {},
   "outputs": [],
   "source": [
    "plt.figure(figsize=(15,9))\n",
    "plt.tick_params(size=7,width=2,direction='inout',labelsize=12)\n",
    "\n",
    "plt.plot(WAVE, FLUX_mjy,\n",
    "           lw=0.5,label='2D Interp Bkg')\n",
    "\n",
    "plt.title('Background Subtracted Spectrum',fontsize=20)\n",
    "\n",
    "\n",
    "plt.ylim(0,1)\n",
    "plt.xlim(4.8,28)\n",
    "\n",
    "plt.xlabel(r'$\\mu m$',fontsize=15)\n",
    "plt.ylabel('Flux (mJy)',fontsize=15)\n",
    "\n",
    "plt.xscale('linear')\n",
    "plt.yscale('linear')\n",
    "\n",
    "plt.tight_layout()\n",
    "plt.show()"
   ]
  },
  {
   "cell_type": "markdown",
   "id": "f7eee995-7596-4206-ba77-349e5c50af8c",
   "metadata": {},
   "source": [
    "#### Compare ABI spectrum with pipeline "
   ]
  },
  {
   "cell_type": "code",
   "execution_count": null,
   "id": "419c47e0-3cbe-4dfe-a010-e446a57a2530",
   "metadata": {},
   "outputs": [],
   "source": [
    "# Original pipeline data\n",
    "#origdata = fits.open('/stage3/Level3_ch1-2-3-4-shortmediumlong_x1d.fits')\n",
    "origdata = fits.open('Level3_ch2-short_x1d.fits')\n",
    "origspec = origdata[1].data\n",
    "origWAVE = origspec['WAVELENGTH']\n",
    "origFLUX = origspec['FLUX']"
   ]
  },
  {
   "cell_type": "code",
   "execution_count": null,
   "id": "4adee5a3-b2c6-4296-b23f-a4124d277b1a",
   "metadata": {},
   "outputs": [],
   "source": [
    "# convert to mJy\n",
    "origFLUX_mjy = (origFLUX*u.Jy).to(u.mJy)"
   ]
  },
  {
   "cell_type": "code",
   "execution_count": null,
   "id": "85345e5c-55e2-4784-a1b6-701b3ea1659d",
   "metadata": {},
   "outputs": [],
   "source": [
    "fig, ax = plt.subplots(2,1,figsize=(15,9),sharex=True)\n",
    "ax[0].tick_params(size=7,width=2,direction='inout',labelsize=12)\n",
    "ax[1].tick_params(size=7,width=2,direction='inout',labelsize=12)\n",
    "\n",
    "\n",
    "ax[0].plot(origWAVE, origFLUX,\n",
    "           lw=0.5,c='c',label='Pipeline')\n",
    "ax[0].plot(WAVE, FLUX,\n",
    "           lw=0.5,c='m',label='ABI')\n",
    "ax[1].plot(origWAVE, origFLUX-FLUX,\n",
    "           lw=0.5,c='k',label='Difference')\n",
    "\n",
    "ax[0].legend()\n",
    "ax[1].legend()\n",
    "\n",
    "ax[0].set_title('Background Subtraction comparison',fontsize=20)\n",
    "\n",
    "ax[0].set_ylim(1e-4,5e-2)\n",
    "ax[1].set_ylim(-0.012,0.012)\n",
    "\n",
    "ax[0].set_xlim(4.8,28)\n",
    "ax[1].set_xlim(4.8,28)\n",
    "\n",
    "plt.xlabel(r'$\\mu m$',fontsize=15)\n",
    "ax[0].set_ylabel('Flux (Jy)',fontsize=15)\n",
    "ax[1].set_ylabel('Flux (Jy)',fontsize=15)\n",
    "\n",
    "ax[1].axhline(0,ls='--',c='r')\n",
    "\n",
    "ax[0].set_xscale('log')\n",
    "ax[0].set_yscale('log')\n",
    "ax[1].set_yscale('symlog')\n",
    "\n",
    "ax[0].set_xticks([5,7.5,10,15,20,25])\n",
    "ax[0].set_xticklabels([5,7.5,10,15,20,25])\n",
    "\n",
    "ax[1].set_xticks([5,7.5,10,15,20,25])\n",
    "ax[1].set_xticklabels([5,7.5,10,15,20,25])\n",
    "\n",
    "ax[1].set_yticks([-1e-2, -5e-3, -1e-3, 1e-3, 5e-3, 1e-2])\n",
    "ax[1].set_yticklabels([-1e-2,-5e-3, -1e-3, 1e-3, 5e-3, 1e-2])\n",
    "\n",
    "plt.tight_layout()\n",
    "plt.show()"
   ]
  }
 ],
 "metadata": {
  "kernelspec": {
   "display_name": "Python 3 (ipykernel)",
   "language": "python",
   "name": "python3"
  },
  "language_info": {
   "codemirror_mode": {
    "name": "ipython",
    "version": 3
   },
   "file_extension": ".py",
   "mimetype": "text/x-python",
   "name": "python",
   "nbconvert_exporter": "python",
   "pygments_lexer": "ipython3",
   "version": "3.13.2"
  }
 },
 "nbformat": 4,
 "nbformat_minor": 5
}
